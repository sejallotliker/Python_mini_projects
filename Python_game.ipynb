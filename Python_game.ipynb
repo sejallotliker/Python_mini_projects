{
  "nbformat": 4,
  "nbformat_minor": 0,
  "metadata": {
    "colab": {
      "provenance": [],
      "authorship_tag": "ABX9TyOnlxybWdRVPgxwiHs9zlCJ",
      "include_colab_link": true
    },
    "kernelspec": {
      "name": "python3",
      "display_name": "Python 3"
    },
    "language_info": {
      "name": "python"
    }
  },
  "cells": [
    {
      "cell_type": "markdown",
      "metadata": {
        "id": "view-in-github",
        "colab_type": "text"
      },
      "source": [
        "<a href=\"https://colab.research.google.com/github/sejallotliker/Python_mini_projects/blob/main/Python_game.ipynb\" target=\"_parent\"><img src=\"https://colab.research.google.com/assets/colab-badge.svg\" alt=\"Open In Colab\"/></a>"
      ]
    },
    {
      "cell_type": "code",
      "execution_count": 2,
      "metadata": {
        "id": "jvi7SslgJt4K",
        "colab": {
          "base_uri": "https://localhost:8080/"
        },
        "outputId": "d28f7b0f-7ac8-4080-e444-1f5156c55238"
      },
      "outputs": [
        {
          "output_type": "stream",
          "name": "stdout",
          "text": [
            "Python Programming Questions\n",
            "Which is the keyword used for declaring a function?1\n",
            "Sorry, Wrong answer... Try again1\n",
            "Sorry, Wrong answer... Try again1\n",
            "The correct answer is  def\n",
            "What is the datatype of 123.4: float\n",
            "Hurray !! You gave a correct answer.\n",
            "Who is the father of Python? idk\n",
            "Sorry, Wrong answer... Try againoo\n",
            "Sorry, Wrong answer... Try againidk\n",
            "The correct answer is  Guido Van Rossum\n",
            "Your final Score is 1\n"
          ]
        }
      ],
      "source": [
        "def guess_name(guess, answer):\n",
        "    global score \n",
        "    still_guessing = True \n",
        "    attempt = 0\n",
        "    while still_guessing and attempt <3:\n",
        "        if guess.lower() == answer.lower():\n",
        "            print(\"Hurray !! You gave a correct answer.\")\n",
        "            score =score + 1\n",
        "            still_guessing = False\n",
        "        else:\n",
        "            if attempt <2:\n",
        "                guess =input(\"Sorry, Wrong answer... Try again\")\n",
        "            attempt=attempt+1\n",
        "                \n",
        "    if attempt == 3:\n",
        "        print(\"The correct answer is \", answer)\n",
        "\n",
        "score = 0\n",
        "print(\"Python Programming Questions\")\n",
        "guess_1 = input(\"Which is the keyword used for declaring a function?\")\n",
        "guess_name(guess_1, \"def\")\n",
        "\n",
        "guess_2= input(\"What is the datatype of 123.4: \")\n",
        "guess_name(guess_2, \"float\")\n",
        "\n",
        "guess_3= input(\"Who is the father of Python? \")\n",
        "guess_name(guess_3, \"Guido Van Rossum\")\n",
        "\n",
        "print(\"Your final Score is \"+str(score))\n"
      ]
    }
  ]
}